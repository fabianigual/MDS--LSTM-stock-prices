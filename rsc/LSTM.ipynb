{
 "cells": [
  {
   "cell_type": "markdown",
   "metadata": {},
   "source": [
    "# Long Short Term Memory RNN"
   ]
  },
  {
   "cell_type": "code",
   "execution_count": 49,
   "metadata": {},
   "outputs": [],
   "source": [
    "import numpy as np\n",
    "from datetime import datetime\n",
    "import matplotlib.pyplot as plt\n",
    "import pandas as pd\n",
    "import tensorflow as tf\n",
    "from  sklearn.preprocessing import  LabelEncoder,  MinMaxScaler"
   ]
  },
  {
   "cell_type": "code",
   "execution_count": 55,
   "metadata": {},
   "outputs": [
    {
     "data": {
      "text/html": [
       "<div>\n",
       "<style scoped>\n",
       "    .dataframe tbody tr th:only-of-type {\n",
       "        vertical-align: middle;\n",
       "    }\n",
       "\n",
       "    .dataframe tbody tr th {\n",
       "        vertical-align: top;\n",
       "    }\n",
       "\n",
       "    .dataframe thead th {\n",
       "        text-align: right;\n",
       "    }\n",
       "</style>\n",
       "<table border=\"1\" class=\"dataframe\">\n",
       "  <thead>\n",
       "    <tr style=\"text-align: right;\">\n",
       "      <th></th>\n",
       "      <th>Date</th>\n",
       "      <th>Open</th>\n",
       "      <th>High</th>\n",
       "      <th>Low</th>\n",
       "      <th>Close</th>\n",
       "      <th>Adj Close</th>\n",
       "      <th>Volume</th>\n",
       "      <th>d_volatility</th>\n",
       "      <th>VIX</th>\n",
       "    </tr>\n",
       "  </thead>\n",
       "  <tbody>\n",
       "    <tr>\n",
       "      <th>0</th>\n",
       "      <td>2017-01-03</td>\n",
       "      <td>2251.570068</td>\n",
       "      <td>2263.879883</td>\n",
       "      <td>2245.129883</td>\n",
       "      <td>2257.830078</td>\n",
       "      <td>2257.830078</td>\n",
       "      <td>3770530000</td>\n",
       "      <td>0.008328</td>\n",
       "      <td>12.85</td>\n",
       "    </tr>\n",
       "    <tr>\n",
       "      <th>1</th>\n",
       "      <td>2017-01-04</td>\n",
       "      <td>2261.600098</td>\n",
       "      <td>2272.820068</td>\n",
       "      <td>2261.600098</td>\n",
       "      <td>2270.750000</td>\n",
       "      <td>2270.750000</td>\n",
       "      <td>3764890000</td>\n",
       "      <td>0.004961</td>\n",
       "      <td>11.85</td>\n",
       "    </tr>\n",
       "    <tr>\n",
       "      <th>2</th>\n",
       "      <td>2017-01-05</td>\n",
       "      <td>2268.179932</td>\n",
       "      <td>2271.500000</td>\n",
       "      <td>2260.449951</td>\n",
       "      <td>2269.000000</td>\n",
       "      <td>2269.000000</td>\n",
       "      <td>3761820000</td>\n",
       "      <td>0.004872</td>\n",
       "      <td>11.67</td>\n",
       "    </tr>\n",
       "    <tr>\n",
       "      <th>3</th>\n",
       "      <td>2017-01-06</td>\n",
       "      <td>2271.139893</td>\n",
       "      <td>2282.100098</td>\n",
       "      <td>2264.060059</td>\n",
       "      <td>2276.979980</td>\n",
       "      <td>2276.979980</td>\n",
       "      <td>3339890000</td>\n",
       "      <td>0.007943</td>\n",
       "      <td>11.32</td>\n",
       "    </tr>\n",
       "    <tr>\n",
       "      <th>4</th>\n",
       "      <td>2017-01-09</td>\n",
       "      <td>2273.590088</td>\n",
       "      <td>2275.489990</td>\n",
       "      <td>2268.899902</td>\n",
       "      <td>2268.899902</td>\n",
       "      <td>2268.899902</td>\n",
       "      <td>3217610000</td>\n",
       "      <td>0.002899</td>\n",
       "      <td>11.56</td>\n",
       "    </tr>\n",
       "  </tbody>\n",
       "</table>\n",
       "</div>"
      ],
      "text/plain": [
       "         Date         Open         High          Low        Close  \\\n",
       "0  2017-01-03  2251.570068  2263.879883  2245.129883  2257.830078   \n",
       "1  2017-01-04  2261.600098  2272.820068  2261.600098  2270.750000   \n",
       "2  2017-01-05  2268.179932  2271.500000  2260.449951  2269.000000   \n",
       "3  2017-01-06  2271.139893  2282.100098  2264.060059  2276.979980   \n",
       "4  2017-01-09  2273.590088  2275.489990  2268.899902  2268.899902   \n",
       "\n",
       "     Adj Close      Volume  d_volatility    VIX  \n",
       "0  2257.830078  3770530000      0.008328  12.85  \n",
       "1  2270.750000  3764890000      0.004961  11.85  \n",
       "2  2269.000000  3761820000      0.004872  11.67  \n",
       "3  2276.979980  3339890000      0.007943  11.32  \n",
       "4  2268.899902  3217610000      0.002899  11.56  "
      ]
     },
     "execution_count": 55,
     "metadata": {},
     "output_type": "execute_result"
    }
   ],
   "source": [
    "df = pd.read_csv(\"../data/training_data.csv\")\n",
    "df.head()"
   ]
  },
  {
   "cell_type": "markdown",
   "metadata": {},
   "source": [
    "# Pre procesamiento"
   ]
  },
  {
   "cell_type": "code",
   "execution_count": 56,
   "metadata": {},
   "outputs": [
    {
     "data": {
      "text/html": [
       "<div>\n",
       "<style scoped>\n",
       "    .dataframe tbody tr th:only-of-type {\n",
       "        vertical-align: middle;\n",
       "    }\n",
       "\n",
       "    .dataframe tbody tr th {\n",
       "        vertical-align: top;\n",
       "    }\n",
       "\n",
       "    .dataframe thead th {\n",
       "        text-align: right;\n",
       "    }\n",
       "</style>\n",
       "<table border=\"1\" class=\"dataframe\">\n",
       "  <thead>\n",
       "    <tr style=\"text-align: right;\">\n",
       "      <th></th>\n",
       "      <th>Adj Close</th>\n",
       "      <th>Volume</th>\n",
       "      <th>d_volatility</th>\n",
       "      <th>VIX</th>\n",
       "    </tr>\n",
       "    <tr>\n",
       "      <th>Date</th>\n",
       "      <th></th>\n",
       "      <th></th>\n",
       "      <th></th>\n",
       "      <th></th>\n",
       "    </tr>\n",
       "  </thead>\n",
       "  <tbody>\n",
       "    <tr>\n",
       "      <th>2017-01-03</th>\n",
       "      <td>2257.830078</td>\n",
       "      <td>3770530000</td>\n",
       "      <td>0.008328</td>\n",
       "      <td>12.85</td>\n",
       "    </tr>\n",
       "    <tr>\n",
       "      <th>2017-01-04</th>\n",
       "      <td>2270.750000</td>\n",
       "      <td>3764890000</td>\n",
       "      <td>0.004961</td>\n",
       "      <td>11.85</td>\n",
       "    </tr>\n",
       "    <tr>\n",
       "      <th>2017-01-05</th>\n",
       "      <td>2269.000000</td>\n",
       "      <td>3761820000</td>\n",
       "      <td>0.004872</td>\n",
       "      <td>11.67</td>\n",
       "    </tr>\n",
       "    <tr>\n",
       "      <th>2017-01-06</th>\n",
       "      <td>2276.979980</td>\n",
       "      <td>3339890000</td>\n",
       "      <td>0.007943</td>\n",
       "      <td>11.32</td>\n",
       "    </tr>\n",
       "    <tr>\n",
       "      <th>2017-01-09</th>\n",
       "      <td>2268.899902</td>\n",
       "      <td>3217610000</td>\n",
       "      <td>0.002899</td>\n",
       "      <td>11.56</td>\n",
       "    </tr>\n",
       "  </tbody>\n",
       "</table>\n",
       "</div>"
      ],
      "text/plain": [
       "              Adj Close      Volume  d_volatility    VIX\n",
       "Date                                                    \n",
       "2017-01-03  2257.830078  3770530000      0.008328  12.85\n",
       "2017-01-04  2270.750000  3764890000      0.004961  11.85\n",
       "2017-01-05  2269.000000  3761820000      0.004872  11.67\n",
       "2017-01-06  2276.979980  3339890000      0.007943  11.32\n",
       "2017-01-09  2268.899902  3217610000      0.002899  11.56"
      ]
     },
     "execution_count": 56,
     "metadata": {},
     "output_type": "execute_result"
    }
   ],
   "source": [
    "df = df.set_index('Date')\n",
    "df = df[['Adj Close', \"Volume\", \"d_volatility\", \"VIX\"]]\n",
    "df.head()"
   ]
  },
  {
   "cell_type": "markdown",
   "metadata": {},
   "source": [
    "## Train y Test"
   ]
  },
  {
   "cell_type": "code",
   "execution_count": 65,
   "metadata": {},
   "outputs": [
    {
     "data": {
      "text/plain": [
       "935.25"
      ]
     },
     "execution_count": 65,
     "metadata": {},
     "output_type": "execute_result"
    }
   ],
   "source": [
    "len(df)*0.75\n"
   ]
  },
  {
   "cell_type": "code",
   "execution_count": 66,
   "metadata": {},
   "outputs": [],
   "source": [
    "train_df,test_df = df[1:935], df[935:] "
   ]
  },
  {
   "cell_type": "markdown",
   "metadata": {},
   "source": [
    "## Escalando los datos"
   ]
  },
  {
   "cell_type": "code",
   "execution_count": 67,
   "metadata": {},
   "outputs": [
    {
     "name": "stderr",
     "output_type": "stream",
     "text": [
      "/var/folders/l4/br6xdwsn3wj7ntybwy6zwmvh0000gn/T/ipykernel_33029/3151536076.py:8: SettingWithCopyWarning: \n",
      "A value is trying to be set on a copy of a slice from a DataFrame.\n",
      "Try using .loc[row_indexer,col_indexer] = value instead\n",
      "\n",
      "See the caveats in the documentation: https://pandas.pydata.org/pandas-docs/stable/user_guide/indexing.html#returning-a-view-versus-a-copy\n",
      "  train[i]=s_s\n",
      "/var/folders/l4/br6xdwsn3wj7ntybwy6zwmvh0000gn/T/ipykernel_33029/3151536076.py:8: SettingWithCopyWarning: \n",
      "A value is trying to be set on a copy of a slice from a DataFrame.\n",
      "Try using .loc[row_indexer,col_indexer] = value instead\n",
      "\n",
      "See the caveats in the documentation: https://pandas.pydata.org/pandas-docs/stable/user_guide/indexing.html#returning-a-view-versus-a-copy\n",
      "  train[i]=s_s\n",
      "/var/folders/l4/br6xdwsn3wj7ntybwy6zwmvh0000gn/T/ipykernel_33029/3151536076.py:8: SettingWithCopyWarning: \n",
      "A value is trying to be set on a copy of a slice from a DataFrame.\n",
      "Try using .loc[row_indexer,col_indexer] = value instead\n",
      "\n",
      "See the caveats in the documentation: https://pandas.pydata.org/pandas-docs/stable/user_guide/indexing.html#returning-a-view-versus-a-copy\n",
      "  train[i]=s_s\n",
      "/var/folders/l4/br6xdwsn3wj7ntybwy6zwmvh0000gn/T/ipykernel_33029/3151536076.py:8: SettingWithCopyWarning: \n",
      "A value is trying to be set on a copy of a slice from a DataFrame.\n",
      "Try using .loc[row_indexer,col_indexer] = value instead\n",
      "\n",
      "See the caveats in the documentation: https://pandas.pydata.org/pandas-docs/stable/user_guide/indexing.html#returning-a-view-versus-a-copy\n",
      "  train[i]=s_s\n",
      "/var/folders/l4/br6xdwsn3wj7ntybwy6zwmvh0000gn/T/ipykernel_33029/3151536076.py:15: SettingWithCopyWarning: \n",
      "A value is trying to be set on a copy of a slice from a DataFrame.\n",
      "Try using .loc[row_indexer,col_indexer] = value instead\n",
      "\n",
      "See the caveats in the documentation: https://pandas.pydata.org/pandas-docs/stable/user_guide/indexing.html#returning-a-view-versus-a-copy\n",
      "  test[i]=s_s\n",
      "/var/folders/l4/br6xdwsn3wj7ntybwy6zwmvh0000gn/T/ipykernel_33029/3151536076.py:15: SettingWithCopyWarning: \n",
      "A value is trying to be set on a copy of a slice from a DataFrame.\n",
      "Try using .loc[row_indexer,col_indexer] = value instead\n",
      "\n",
      "See the caveats in the documentation: https://pandas.pydata.org/pandas-docs/stable/user_guide/indexing.html#returning-a-view-versus-a-copy\n",
      "  test[i]=s_s\n",
      "/var/folders/l4/br6xdwsn3wj7ntybwy6zwmvh0000gn/T/ipykernel_33029/3151536076.py:15: SettingWithCopyWarning: \n",
      "A value is trying to be set on a copy of a slice from a DataFrame.\n",
      "Try using .loc[row_indexer,col_indexer] = value instead\n",
      "\n",
      "See the caveats in the documentation: https://pandas.pydata.org/pandas-docs/stable/user_guide/indexing.html#returning-a-view-versus-a-copy\n",
      "  test[i]=s_s\n",
      "/var/folders/l4/br6xdwsn3wj7ntybwy6zwmvh0000gn/T/ipykernel_33029/3151536076.py:15: SettingWithCopyWarning: \n",
      "A value is trying to be set on a copy of a slice from a DataFrame.\n",
      "Try using .loc[row_indexer,col_indexer] = value instead\n",
      "\n",
      "See the caveats in the documentation: https://pandas.pydata.org/pandas-docs/stable/user_guide/indexing.html#returning-a-view-versus-a-copy\n",
      "  test[i]=s_s\n"
     ]
    }
   ],
   "source": [
    "train = train_df\n",
    "scalers={}\n",
    "for i in train_df.columns:\n",
    "    scaler = MinMaxScaler(feature_range=(-1,1))\n",
    "    s_s = scaler.fit_transform(train[i].values.reshape(-1,1))\n",
    "    s_s=np.reshape(s_s,len(s_s))\n",
    "    scalers['scaler_'+ i] = scaler\n",
    "    train[i]=s_s\n",
    "test = test_df\n",
    "for i in train_df.columns:\n",
    "    scaler = scalers['scaler_'+i]\n",
    "    s_s = scaler.transform(test[i].values.reshape(-1,1))\n",
    "    s_s=np.reshape(s_s,len(s_s))\n",
    "    scalers['scaler_'+i] = scaler\n",
    "    test[i]=s_s"
   ]
  },
  {
   "cell_type": "code",
   "execution_count": 69,
   "metadata": {},
   "outputs": [],
   "source": [
    "def split_series(series, n_past, n_future):\n",
    "  #\n",
    "  # n_past ==> no of past observations\n",
    "  #\n",
    "  # n_future ==> no of future observations \n",
    "  #\n",
    "  X, y = list(), list()\n",
    "  for window_start in range(len(series)):\n",
    "    past_end = window_start + n_past\n",
    "    future_end = past_end + n_future\n",
    "    if future_end > len(series):\n",
    "      break\n",
    "    # slicing the past and future parts of the window\n",
    "    past, future = series[window_start:past_end, :], series[past_end:future_end, :]\n",
    "    X.append(past)\n",
    "    y.append(future)\n",
    "  return np.array(X), np.array(y)"
   ]
  },
  {
   "cell_type": "markdown",
   "metadata": {},
   "source": [
    "## Defino ccc"
   ]
  },
  {
   "cell_type": "code",
   "execution_count": 72,
   "metadata": {},
   "outputs": [],
   "source": [
    "n_past = 32\n",
    "n_future = 16\n",
    "n_features = 4"
   ]
  },
  {
   "cell_type": "code",
   "execution_count": 73,
   "metadata": {},
   "outputs": [],
   "source": [
    "X_train, y_train = split_series(train.values,n_past, n_future)\n",
    "X_train = X_train.reshape((X_train.shape[0], X_train.shape[1],n_features))\n",
    "y_train = y_train.reshape((y_train.shape[0], y_train.shape[1], n_features))\n",
    "X_test, y_test = split_series(test.values,n_past, n_future)\n",
    "X_test = X_test.reshape((X_test.shape[0], X_test.shape[1],n_features))\n",
    "y_test = y_test.reshape((y_test.shape[0], y_test.shape[1], n_features))"
   ]
  },
  {
   "cell_type": "code",
   "execution_count": 75,
   "metadata": {},
   "outputs": [
    {
     "name": "stdout",
     "output_type": "stream",
     "text": [
      "Model: \"model\"\n",
      "__________________________________________________________________________________________________\n",
      " Layer (type)                   Output Shape         Param #     Connected to                     \n",
      "==================================================================================================\n",
      " input_1 (InputLayer)           [(None, 32, 4)]      0           []                               \n",
      "                                                                                                  \n",
      " lstm_1 (LSTM)                  [(None, 32, 100),    42000       ['input_1[0][0]']                \n",
      "                                 (None, 100),                                                     \n",
      "                                 (None, 100)]                                                     \n",
      "                                                                                                  \n",
      " lstm_2 (LSTM)                  [(None, 100),        80400       ['lstm_1[0][0]']                 \n",
      "                                 (None, 100),                                                     \n",
      "                                 (None, 100)]                                                     \n",
      "                                                                                                  \n",
      " repeat_vector (RepeatVector)   (None, 16, 100)      0           ['lstm_2[0][0]']                 \n",
      "                                                                                                  \n",
      " lstm_3 (LSTM)                  (None, 16, 100)      80400       ['repeat_vector[0][0]',          \n",
      "                                                                  'lstm_1[0][1]',                 \n",
      "                                                                  'lstm_1[0][2]']                 \n",
      "                                                                                                  \n",
      " lstm_4 (LSTM)                  (None, 16, 100)      80400       ['lstm_3[0][0]',                 \n",
      "                                                                  'lstm_2[0][1]',                 \n",
      "                                                                  'lstm_2[0][2]']                 \n",
      "                                                                                                  \n",
      " time_distributed (TimeDistribu  (None, 16, 4)       404         ['lstm_4[0][0]']                 \n",
      " ted)                                                                                             \n",
      "                                                                                                  \n",
      "==================================================================================================\n",
      "Total params: 283,604\n",
      "Trainable params: 283,604\n",
      "Non-trainable params: 0\n",
      "__________________________________________________________________________________________________\n"
     ]
    }
   ],
   "source": [
    "# n_features ==> no of features at each timestep in the data.\n",
    "#\n",
    "encoder_inputs = tf.keras.layers.Input(shape=(n_past, n_features))\n",
    "encoder_l1 = tf.keras.layers.LSTM(50,return_sequences = True, return_state=True)\n",
    "encoder_outputs1 = encoder_l1(encoder_inputs)\n",
    "encoder_states1 = encoder_outputs1[1:]\n",
    "encoder_l2 = tf.keras.layers.LSTM(50, return_state=True)\n",
    "encoder_outputs2 = encoder_l2(encoder_outputs1[0])\n",
    "encoder_states2 = encoder_outputs2[1:]\n",
    "#\n",
    "decoder_inputs = tf.keras.layers.RepeatVector(n_future)(encoder_outputs2[0])\n",
    "#\n",
    "decoder_l1 = tf.keras.layers.LSTM(100, return_sequences=True)(decoder_inputs,initial_state = encoder_states1)\n",
    "decoder_l2 = tf.keras.layers.LSTM(100, return_sequences=True)(decoder_l1,initial_state = encoder_states2)\n",
    "decoder_outputs2 = tf.keras.layers.TimeDistributed(tf.keras.layers.Dense(n_features))(decoder_l2)\n",
    "#\n",
    "model_e2d2 = tf.keras.models.Model(encoder_inputs,decoder_outputs2)\n",
    "#\n",
    "model_e2d2.summary()"
   ]
  },
  {
   "cell_type": "code",
   "execution_count": 76,
   "metadata": {},
   "outputs": [
    {
     "name": "stderr",
     "output_type": "stream",
     "text": [
      "2022-01-22 18:11:39.426575: W tensorflow/core/platform/profile_utils/cpu_utils.cc:128] Failed to get CPU frequency: 0 Hz\n",
      "2022-01-22 18:11:40.805401: I tensorflow/core/grappler/optimizers/custom_graph_optimizer_registry.cc:112] Plugin optimizer for device_type GPU is enabled.\n",
      "2022-01-22 18:11:41.219256: I tensorflow/core/grappler/optimizers/custom_graph_optimizer_registry.cc:112] Plugin optimizer for device_type GPU is enabled.\n",
      "2022-01-22 18:11:41.543438: I tensorflow/core/grappler/optimizers/custom_graph_optimizer_registry.cc:112] Plugin optimizer for device_type GPU is enabled.\n",
      "2022-01-22 18:11:41.670125: I tensorflow/core/grappler/optimizers/custom_graph_optimizer_registry.cc:112] Plugin optimizer for device_type GPU is enabled.\n",
      "2022-01-22 18:11:41.738239: I tensorflow/core/grappler/optimizers/custom_graph_optimizer_registry.cc:112] Plugin optimizer for device_type GPU is enabled.\n",
      "2022-01-22 18:11:42.746822: I tensorflow/core/grappler/optimizers/custom_graph_optimizer_registry.cc:112] Plugin optimizer for device_type GPU is enabled.\n",
      "2022-01-22 18:11:43.395348: I tensorflow/core/grappler/optimizers/custom_graph_optimizer_registry.cc:112] Plugin optimizer for device_type GPU is enabled.\n",
      "2022-01-22 18:11:43.747162: I tensorflow/core/grappler/optimizers/custom_graph_optimizer_registry.cc:112] Plugin optimizer for device_type GPU is enabled.\n",
      "2022-01-22 18:11:43.871376: I tensorflow/core/grappler/optimizers/custom_graph_optimizer_registry.cc:112] Plugin optimizer for device_type GPU is enabled.\n",
      "2022-01-22 18:11:45.696584: I tensorflow/core/grappler/optimizers/custom_graph_optimizer_registry.cc:112] Plugin optimizer for device_type GPU is enabled.\n",
      "2022-01-22 18:11:45.827964: I tensorflow/core/grappler/optimizers/custom_graph_optimizer_registry.cc:112] Plugin optimizer for device_type GPU is enabled.\n",
      "2022-01-22 18:11:45.879079: I tensorflow/core/grappler/optimizers/custom_graph_optimizer_registry.cc:112] Plugin optimizer for device_type GPU is enabled.\n",
      "2022-01-22 18:11:45.932639: I tensorflow/core/grappler/optimizers/custom_graph_optimizer_registry.cc:112] Plugin optimizer for device_type GPU is enabled.\n",
      "2022-01-22 18:11:45.970081: I tensorflow/core/grappler/optimizers/custom_graph_optimizer_registry.cc:112] Plugin optimizer for device_type GPU is enabled.\n"
     ]
    }
   ],
   "source": [
    "    #definir \"early stopping\" la loss de validacion no mejora en X épocas\n",
    "early_stopping = tf.keras.callbacks.EarlyStopping(monitor='val_loss',\n",
    "                                                      patience=20,  #numero de epocas sin mejora\n",
    "                                                      restore_best_weights = True)\n",
    "model_e2d2.compile(optimizer=tf.keras.optimizers.Adam(), loss=tf.keras.losses.Huber())\n",
    "history_e2d2=model_e2d2.fit(X_train,y_train,epochs=25,validation_data=(X_test,y_test),batch_size=32,verbose=0,callbacks=[early_stopping])"
   ]
  },
  {
   "cell_type": "code",
   "execution_count": 77,
   "metadata": {},
   "outputs": [
    {
     "name": "stderr",
     "output_type": "stream",
     "text": [
      "2022-01-22 18:12:39.316591: I tensorflow/core/grappler/optimizers/custom_graph_optimizer_registry.cc:112] Plugin optimizer for device_type GPU is enabled.\n",
      "2022-01-22 18:12:39.443055: I tensorflow/core/grappler/optimizers/custom_graph_optimizer_registry.cc:112] Plugin optimizer for device_type GPU is enabled.\n",
      "2022-01-22 18:12:39.501637: I tensorflow/core/grappler/optimizers/custom_graph_optimizer_registry.cc:112] Plugin optimizer for device_type GPU is enabled.\n",
      "2022-01-22 18:12:39.564147: I tensorflow/core/grappler/optimizers/custom_graph_optimizer_registry.cc:112] Plugin optimizer for device_type GPU is enabled.\n",
      "2022-01-22 18:12:39.603172: I tensorflow/core/grappler/optimizers/custom_graph_optimizer_registry.cc:112] Plugin optimizer for device_type GPU is enabled.\n"
     ]
    },
    {
     "data": {
      "text/plain": [
       "array([[[ 4.85175967e-01, -4.39756401e-02, -5.02034545e-01,\n",
       "         -4.42056447e-01],\n",
       "        [ 4.25293952e-01, -1.39818164e-02, -5.08318245e-01,\n",
       "         -4.24052835e-01],\n",
       "        [ 3.91873449e-01, -9.18882061e-03, -5.43931901e-01,\n",
       "         -4.18386132e-01],\n",
       "        ...,\n",
       "        [ 6.67697310e-01, -8.47237110e-02, -8.52339268e-01,\n",
       "         -5.07922590e-01],\n",
       "        [ 6.69291079e-01, -7.63325468e-02, -8.53782415e-01,\n",
       "         -5.11883795e-01],\n",
       "        [ 6.73714221e-01, -7.10346475e-02, -8.60993147e-01,\n",
       "         -5.17308831e-01]],\n",
       "\n",
       "       [[ 5.00328541e-01, -3.36195342e-02, -4.95921344e-01,\n",
       "         -4.33069617e-01],\n",
       "        [ 4.39497411e-01, -8.07163306e-04, -4.98444349e-01,\n",
       "         -4.11962539e-01],\n",
       "        [ 4.02719140e-01,  6.01294171e-03, -5.29653609e-01,\n",
       "         -4.03213173e-01],\n",
       "        ...,\n",
       "        [ 6.32003248e-01, -6.48048222e-02, -8.20303798e-01,\n",
       "         -4.79433000e-01],\n",
       "        [ 6.34368777e-01, -5.67468964e-02, -8.22296143e-01,\n",
       "         -4.82266992e-01],\n",
       "        [ 6.38364971e-01, -5.21587543e-02, -8.28606844e-01,\n",
       "         -4.86260504e-01]],\n",
       "\n",
       "       [[ 5.28833270e-01, -2.81436108e-02, -5.09981394e-01,\n",
       "         -4.36145216e-01],\n",
       "        [ 4.69341815e-01,  4.05285042e-03, -5.08324444e-01,\n",
       "         -4.13995534e-01],\n",
       "        [ 4.32626992e-01,  9.98670142e-03, -5.36686838e-01,\n",
       "         -4.05344248e-01],\n",
       "        ...,\n",
       "        [ 6.53028190e-01, -6.55229390e-02, -8.23607147e-01,\n",
       "         -4.81867820e-01],\n",
       "        [ 6.55048370e-01, -5.70969991e-02, -8.25944424e-01,\n",
       "         -4.84709829e-01],\n",
       "        [ 6.58619881e-01, -5.24366610e-02, -8.32403362e-01,\n",
       "         -4.88630682e-01]],\n",
       "\n",
       "       ...,\n",
       "\n",
       "       [[ 1.05010903e+00, -2.74289340e-01, -9.49806213e-01,\n",
       "         -8.23603034e-01],\n",
       "        [ 9.99822497e-01, -2.28910461e-01, -8.78051281e-01,\n",
       "         -7.60019541e-01],\n",
       "        [ 9.47290778e-01, -2.27189556e-01, -8.76908779e-01,\n",
       "         -7.49219358e-01],\n",
       "        ...,\n",
       "        [ 9.72896099e-01, -1.55413643e-01, -8.28658700e-01,\n",
       "         -6.48819685e-01],\n",
       "        [ 9.29850936e-01, -1.36952505e-01, -7.79909849e-01,\n",
       "         -6.15947604e-01],\n",
       "        [ 8.86114717e-01, -1.19638517e-01, -7.35879779e-01,\n",
       "         -5.88025630e-01]],\n",
       "\n",
       "       [[ 1.05199003e+00, -2.70280957e-01, -9.47614312e-01,\n",
       "         -8.21761250e-01],\n",
       "        [ 1.00069678e+00, -2.24896237e-01, -8.74910593e-01,\n",
       "         -7.57343888e-01],\n",
       "        [ 9.47183132e-01, -2.23315164e-01, -8.73080850e-01,\n",
       "         -7.45860100e-01],\n",
       "        ...,\n",
       "        [ 9.75050092e-01, -1.54292390e-01, -8.30056906e-01,\n",
       "         -6.48541570e-01],\n",
       "        [ 9.32299554e-01, -1.35922059e-01, -7.81381607e-01,\n",
       "         -6.15623832e-01],\n",
       "        [ 8.88644159e-01, -1.18645519e-01, -7.37213135e-01,\n",
       "         -5.87522805e-01]],\n",
       "\n",
       "       [[ 1.05301404e+00, -2.66981810e-01, -9.47408199e-01,\n",
       "         -8.20402145e-01],\n",
       "        [ 1.00113928e+00, -2.22230598e-01, -8.74149442e-01,\n",
       "         -7.55802155e-01],\n",
       "        [ 9.47208524e-01, -2.21183106e-01, -8.71953964e-01,\n",
       "         -7.44296372e-01],\n",
       "        ...,\n",
       "        [ 9.76703405e-01, -1.53900087e-01, -8.31265569e-01,\n",
       "         -6.48632228e-01],\n",
       "        [ 9.34156656e-01, -1.35573074e-01, -7.82628298e-01,\n",
       "         -6.15666628e-01],\n",
       "        [ 8.90584469e-01, -1.18310615e-01, -7.38371730e-01,\n",
       "         -5.87439537e-01]]], dtype=float32)"
      ]
     },
     "execution_count": 77,
     "metadata": {},
     "output_type": "execute_result"
    }
   ],
   "source": [
    "pred_e2d2=model_e2d2.predict(X_test)\n",
    "pred_e2d2"
   ]
  },
  {
   "cell_type": "markdown",
   "metadata": {},
   "source": [
    "Escalado inverso"
   ]
  },
  {
   "cell_type": "code",
   "execution_count": 78,
   "metadata": {},
   "outputs": [],
   "source": [
    "for index,i in enumerate(train_df.columns):\n",
    "    scaler = scalers['scaler_'+i]\n",
    "    pred_e2d2[:,:,index]=scaler.inverse_transform(pred_e2d2[:,:,index])\n",
    "    y_train[:,:,index]=scaler.inverse_transform(y_train[:,:,index])\n",
    "    y_test[:,:,index]=scaler.inverse_transform(y_test[:,:,index])"
   ]
  },
  {
   "cell_type": "code",
   "execution_count": 79,
   "metadata": {},
   "outputs": [
    {
     "name": "stdout",
     "output_type": "stream",
     "text": [
      "Adj Close\n",
      "Day  1 :\n",
      "MAE-E2D2 :  640.9709408166274\n",
      "Day  2 :\n",
      "MAE-E2D2 :  691.2287146226415\n",
      "Day  3 :\n",
      "MAE-E2D2 :  729.1224747567807\n",
      "Day  4 :\n",
      "MAE-E2D2 :  742.2270627579599\n",
      "Day  5 :\n",
      "MAE-E2D2 :  737.768539946934\n",
      "\n",
      "\n",
      "Volume\n",
      "Day  1 :\n",
      "MAE-E2D2 :  906986612.3471698\n",
      "Day  2 :\n",
      "MAE-E2D2 :  1026620451.4415095\n",
      "Day  3 :\n",
      "MAE-E2D2 :  1056433085.7056603\n",
      "Day  4 :\n",
      "MAE-E2D2 :  1061555480.8150944\n",
      "Day  5 :\n",
      "MAE-E2D2 :  1044037151.0339622\n",
      "\n",
      "\n",
      "d_volatility\n",
      "Day  1 :\n",
      "MAE-E2D2 :  0.004212867577257586\n",
      "Day  2 :\n",
      "MAE-E2D2 :  0.004945165764668399\n",
      "Day  3 :\n",
      "MAE-E2D2 :  0.00504133114381691\n",
      "Day  4 :\n",
      "MAE-E2D2 :  0.004767696933826661\n",
      "Day  5 :\n",
      "MAE-E2D2 :  0.0045192007986409564\n",
      "\n",
      "\n",
      "VIX\n",
      "Day  1 :\n",
      "MAE-E2D2 :  2.2282134480026534\n",
      "Day  2 :\n",
      "MAE-E2D2 :  3.5594380282995832\n",
      "Day  3 :\n",
      "MAE-E2D2 :  4.1861555480957024\n",
      "Day  4 :\n",
      "MAE-E2D2 :  4.3633789583602045\n",
      "Day  5 :\n",
      "MAE-E2D2 :  4.307232117850826\n",
      "\n",
      "\n"
     ]
    }
   ],
   "source": [
    "from sklearn.metrics import mean_absolute_error\n",
    "for index,i in enumerate(train_df.columns):\n",
    "  print(i)\n",
    "  for j in range(1,6):\n",
    "    print(\"Day \",j,\":\")\n",
    "    print(\"MAE-E2D2 : \",mean_absolute_error(y_test[:,j-1,index],pred_e2d2[:,j-1,index]))\n",
    "  print()\n",
    "  print()"
   ]
  }
 ],
 "metadata": {
  "interpreter": {
   "hash": "453eedf5c57ca895b0c57d44af7e1733ff5202dc6db0fea73d05b92d379be008"
  },
  "kernelspec": {
   "display_name": "Python 3.9.7 64-bit ('analisis-de-datos': conda)",
   "language": "python",
   "name": "python3"
  },
  "language_info": {
   "codemirror_mode": {
    "name": "ipython",
    "version": 3
   },
   "file_extension": ".py",
   "mimetype": "text/x-python",
   "name": "python",
   "nbconvert_exporter": "python",
   "pygments_lexer": "ipython3",
   "version": "3.9.9"
  },
  "orig_nbformat": 4
 },
 "nbformat": 4,
 "nbformat_minor": 2
}
