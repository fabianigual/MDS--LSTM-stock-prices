{
 "cells": [
  {
   "cell_type": "markdown",
   "metadata": {},
   "source": [
    "# LSTM"
   ]
  },
  {
   "cell_type": "code",
   "execution_count": 3,
   "metadata": {},
   "outputs": [],
   "source": [
    "import numpy as np\n",
    "import tensorflow as tf\n",
    "import pandas as pd\n",
    "from matplotlib import pyplot as plt\n",
    "from sklearn.preprocessing import StandardScaler, Normalizer\n",
    "import seaborn as sns"
   ]
  },
  {
   "cell_type": "code",
   "execution_count": 27,
   "metadata": {},
   "outputs": [
    {
     "data": {
      "text/html": [
       "<div>\n",
       "<style scoped>\n",
       "    .dataframe tbody tr th:only-of-type {\n",
       "        vertical-align: middle;\n",
       "    }\n",
       "\n",
       "    .dataframe tbody tr th {\n",
       "        vertical-align: top;\n",
       "    }\n",
       "\n",
       "    .dataframe thead th {\n",
       "        text-align: right;\n",
       "    }\n",
       "</style>\n",
       "<table border=\"1\" class=\"dataframe\">\n",
       "  <thead>\n",
       "    <tr style=\"text-align: right;\">\n",
       "      <th></th>\n",
       "      <th>Date</th>\n",
       "      <th>Open</th>\n",
       "      <th>High</th>\n",
       "      <th>Low</th>\n",
       "      <th>Close</th>\n",
       "      <th>Adj Close</th>\n",
       "      <th>Volume</th>\n",
       "      <th>d_volatility</th>\n",
       "      <th>VIX</th>\n",
       "    </tr>\n",
       "  </thead>\n",
       "  <tbody>\n",
       "    <tr>\n",
       "      <th>1242</th>\n",
       "      <td>2021-12-08</td>\n",
       "      <td>4690.859863</td>\n",
       "      <td>4705.060059</td>\n",
       "      <td>4674.520020</td>\n",
       "      <td>4701.209961</td>\n",
       "      <td>4701.209961</td>\n",
       "      <td>3061550000</td>\n",
       "      <td>0.006511</td>\n",
       "      <td>19.90</td>\n",
       "    </tr>\n",
       "    <tr>\n",
       "      <th>1243</th>\n",
       "      <td>2021-12-09</td>\n",
       "      <td>4691.000000</td>\n",
       "      <td>4695.259766</td>\n",
       "      <td>4665.979980</td>\n",
       "      <td>4667.450195</td>\n",
       "      <td>4667.450195</td>\n",
       "      <td>2851660000</td>\n",
       "      <td>0.006242</td>\n",
       "      <td>21.58</td>\n",
       "    </tr>\n",
       "    <tr>\n",
       "      <th>1244</th>\n",
       "      <td>2021-12-10</td>\n",
       "      <td>4687.640137</td>\n",
       "      <td>4713.569824</td>\n",
       "      <td>4670.240234</td>\n",
       "      <td>4712.020020</td>\n",
       "      <td>4712.020020</td>\n",
       "      <td>2858310000</td>\n",
       "      <td>0.009243</td>\n",
       "      <td>18.69</td>\n",
       "    </tr>\n",
       "    <tr>\n",
       "      <th>1245</th>\n",
       "      <td>2021-12-13</td>\n",
       "      <td>4710.299805</td>\n",
       "      <td>4710.299805</td>\n",
       "      <td>4667.600098</td>\n",
       "      <td>4668.970215</td>\n",
       "      <td>4668.970215</td>\n",
       "      <td>3322050000</td>\n",
       "      <td>0.009065</td>\n",
       "      <td>20.31</td>\n",
       "    </tr>\n",
       "    <tr>\n",
       "      <th>1246</th>\n",
       "      <td>2021-12-14</td>\n",
       "      <td>4642.990234</td>\n",
       "      <td>4660.470215</td>\n",
       "      <td>4606.520020</td>\n",
       "      <td>4634.089844</td>\n",
       "      <td>4634.089844</td>\n",
       "      <td>3292740000</td>\n",
       "      <td>0.011620</td>\n",
       "      <td>21.89</td>\n",
       "    </tr>\n",
       "  </tbody>\n",
       "</table>\n",
       "</div>"
      ],
      "text/plain": [
       "            Date         Open         High          Low        Close  \\\n",
       "1242  2021-12-08  4690.859863  4705.060059  4674.520020  4701.209961   \n",
       "1243  2021-12-09  4691.000000  4695.259766  4665.979980  4667.450195   \n",
       "1244  2021-12-10  4687.640137  4713.569824  4670.240234  4712.020020   \n",
       "1245  2021-12-13  4710.299805  4710.299805  4667.600098  4668.970215   \n",
       "1246  2021-12-14  4642.990234  4660.470215  4606.520020  4634.089844   \n",
       "\n",
       "        Adj Close      Volume  d_volatility    VIX  \n",
       "1242  4701.209961  3061550000      0.006511  19.90  \n",
       "1243  4667.450195  2851660000      0.006242  21.58  \n",
       "1244  4712.020020  2858310000      0.009243  18.69  \n",
       "1245  4668.970215  3322050000      0.009065  20.31  \n",
       "1246  4634.089844  3292740000      0.011620  21.89  "
      ]
     },
     "execution_count": 27,
     "metadata": {},
     "output_type": "execute_result"
    }
   ],
   "source": [
    "df = pd.read_csv(\"../data/training_data.csv\")\n",
    "df.tail()"
   ]
  },
  {
   "cell_type": "code",
   "execution_count": 5,
   "metadata": {},
   "outputs": [
    {
     "name": "stdout",
     "output_type": "stream",
     "text": [
      "1232   2021-11-23\n",
      "1233   2021-11-24\n",
      "1234   2021-11-26\n",
      "1235   2021-11-29\n",
      "1236   2021-11-30\n",
      "1237   2021-12-01\n",
      "1238   2021-12-02\n",
      "1239   2021-12-03\n",
      "1240   2021-12-06\n",
      "1241   2021-12-07\n",
      "1242   2021-12-08\n",
      "1243   2021-12-09\n",
      "1244   2021-12-10\n",
      "1245   2021-12-13\n",
      "1246   2021-12-14\n",
      "Name: Date, dtype: datetime64[ns]\n"
     ]
    }
   ],
   "source": [
    "#Separate dates for future plotting\n",
    "train_dates = pd.to_datetime(df['Date'])\n",
    "print(train_dates.tail(15)) #Check last few dates. "
   ]
  },
  {
   "cell_type": "code",
   "execution_count": 36,
   "metadata": {},
   "outputs": [
    {
     "name": "stdout",
     "output_type": "stream",
     "text": [
      "['Adj Close']\n"
     ]
    }
   ],
   "source": [
    "#Variables for training\n",
    "cols = list(df)[5:6]\n",
    "#Date and volume columns are not used in training. \n",
    "print(cols) \n",
    "df_for_training = df[cols].astype(float)"
   ]
  },
  {
   "cell_type": "markdown",
   "metadata": {},
   "source": [
    "Normalizamos los datos"
   ]
  },
  {
   "cell_type": "code",
   "execution_count": 37,
   "metadata": {},
   "outputs": [],
   "source": [
    "scaler = StandardScaler()\n",
    "scaler = scaler.fit(df_for_training)\n",
    "df_for_training_scaled = scaler.transform(df_for_training)"
   ]
  },
  {
   "cell_type": "markdown",
   "metadata": {},
   "source": [
    "### As required for LSTM networks, we require to reshape an input data into n_samples x timesteps x n_features. \n",
    "In this example, the n_features is 5. We will make timesteps = 14 (past days data used for training). "
   ]
  },
  {
   "cell_type": "code",
   "execution_count": 38,
   "metadata": {},
   "outputs": [
    {
     "name": "stdout",
     "output_type": "stream",
     "text": [
      "trainX shape == (1200, 32, 1).\n",
      "trainY shape == (1200, 1).\n"
     ]
    }
   ],
   "source": [
    "#Empty lists to be populated using formatted training data\n",
    "trainX = []\n",
    "trainY = []\n",
    "\n",
    "n_future = 16  # Number of days we want to look into the future based on the past days.\n",
    "n_past = 32  # Number of past days we want to use to predict the future.\n",
    "\n",
    "#Reformat input data into a shape: (n_samples x timesteps x n_features)\n",
    "#In my example, my df_for_training_scaled has a shape (12823, 5)\n",
    "#12823 refers to the number of data points and 5 refers to the columns (multi-variables).\n",
    "for i in range(n_past, len(df_for_training_scaled) - n_future +1):\n",
    "    trainX.append(df_for_training_scaled[i - n_past:i, 0:df_for_training.shape[1]])\n",
    "    trainY.append(df_for_training_scaled[i + n_future - 1:i + n_future, 0])\n",
    "\n",
    "trainX, trainY = np.array(trainX), np.array(trainY)\n",
    "\n",
    "print('trainX shape == {}.'.format(trainX.shape))\n",
    "print('trainY shape == {}.'.format(trainY.shape))"
   ]
  },
  {
   "cell_type": "markdown",
   "metadata": {},
   "source": [
    "Modelo"
   ]
  },
  {
   "cell_type": "code",
   "execution_count": 39,
   "metadata": {},
   "outputs": [],
   "source": [
    "def modelo_lstm(trainX,trainY,neuronas, capas, epocas, batch_size,validation_split):\n",
    "\n",
    "    csv_logger = tf.keras.callbacks.CSVLogger('training.log', separator=',', append=False)\n",
    "\n",
    "    model = tf.keras.models.Sequential()\n",
    "    #Entrada\n",
    "    model.add(tf.keras.layers.LSTM(neuronas ,activation='tanh', input_shape=(trainX.shape[1], trainX.shape[2]), return_sequences=True))\n",
    "    model.add(tf.keras.layers.Dropout(0.2)) # regularizacion en las conexiones de entrada\n",
    "    #second LSTM\n",
    "    for i in range(capas):\n",
    "        model.add(tf.keras.layers.LSTM(units=int(neuronas/2), activation='tanh', return_sequences = True))\n",
    "        model.add(tf.keras.layers.Dropout(0.2))\n",
    "    # Salida\n",
    "    model.add(tf.keras.layers.Dense(trainY.shape[1]))\n",
    "    model.compile(optimizer='adam', loss=tf.keras.losses.MeanSquaredError())\n",
    "    model.summary()\n",
    "\n",
    "    #definir \"early stopping\" la loss de validacion no mejora en X épocas\n",
    "    early_stopping = tf.keras.callbacks.EarlyStopping(monitor='val_loss',\n",
    "                                                      patience=20,  #numero de epocas sin mejora\n",
    "                                                      restore_best_weights = True)\n",
    "\n",
    "    history = model.fit(trainX, trainY, epochs=epocas, batch_size=batch_size, validation_split=validation_split, verbose=1, callbacks=[early_stopping, csv_logger])\n",
    "\n",
    "    plt.plot(history.history['loss'], label='Training loss')\n",
    "    plt.plot(history.history['val_loss'], label='Validation loss')\n",
    "    plt.ylabel(\"Error\")\n",
    "    plt.xlabel(\"Epocas\")\n",
    "    plt.legend()\n",
    "    return model\n",
    "    "
   ]
  },
  {
   "cell_type": "code",
   "execution_count": 46,
   "metadata": {},
   "outputs": [
    {
     "name": "stdout",
     "output_type": "stream",
     "text": [
      "Model: \"sequential_5\"\n",
      "_________________________________________________________________\n",
      " Layer (type)                Output Shape              Param #   \n",
      "=================================================================\n",
      " lstm_11 (LSTM)              (None, 32, 64)            16896     \n",
      "                                                                 \n",
      " dropout_11 (Dropout)        (None, 32, 64)            0         \n",
      "                                                                 \n",
      " lstm_12 (LSTM)              (None, 32, 32)            12416     \n",
      "                                                                 \n",
      " dropout_12 (Dropout)        (None, 32, 32)            0         \n",
      "                                                                 \n",
      " dense_5 (Dense)             (None, 32, 1)             33        \n",
      "                                                                 \n",
      "=================================================================\n",
      "Total params: 29,345\n",
      "Trainable params: 29,345\n",
      "Non-trainable params: 0\n",
      "_________________________________________________________________\n",
      "Epoch 1/200\n"
     ]
    },
    {
     "name": "stderr",
     "output_type": "stream",
     "text": [
      "2022-01-24 21:08:53.807551: I tensorflow/core/grappler/optimizers/custom_graph_optimizer_registry.cc:112] Plugin optimizer for device_type GPU is enabled.\n",
      "2022-01-24 21:08:54.038037: I tensorflow/core/grappler/optimizers/custom_graph_optimizer_registry.cc:112] Plugin optimizer for device_type GPU is enabled.\n",
      "2022-01-24 21:08:54.100575: I tensorflow/core/grappler/optimizers/custom_graph_optimizer_registry.cc:112] Plugin optimizer for device_type GPU is enabled.\n",
      "2022-01-24 21:08:54.185173: I tensorflow/core/grappler/optimizers/custom_graph_optimizer_registry.cc:112] Plugin optimizer for device_type GPU is enabled.\n"
     ]
    },
    {
     "name": "stdout",
     "output_type": "stream",
     "text": [
      "  3/135 [..............................] - ETA: 4s - loss: 0.4051  "
     ]
    },
    {
     "name": "stderr",
     "output_type": "stream",
     "text": [
      "2022-01-24 21:08:54.301908: I tensorflow/core/grappler/optimizers/custom_graph_optimizer_registry.cc:112] Plugin optimizer for device_type GPU is enabled.\n"
     ]
    },
    {
     "name": "stdout",
     "output_type": "stream",
     "text": [
      "134/135 [============================>.] - ETA: 0s - loss: 0.1375"
     ]
    },
    {
     "name": "stderr",
     "output_type": "stream",
     "text": [
      "2022-01-24 21:08:57.391745: I tensorflow/core/grappler/optimizers/custom_graph_optimizer_registry.cc:112] Plugin optimizer for device_type GPU is enabled.\n",
      "2022-01-24 21:08:57.461340: I tensorflow/core/grappler/optimizers/custom_graph_optimizer_registry.cc:112] Plugin optimizer for device_type GPU is enabled.\n",
      "2022-01-24 21:08:57.510955: I tensorflow/core/grappler/optimizers/custom_graph_optimizer_registry.cc:112] Plugin optimizer for device_type GPU is enabled.\n"
     ]
    },
    {
     "name": "stdout",
     "output_type": "stream",
     "text": [
      "135/135 [==============================] - 4s 24ms/step - loss: 0.1375 - val_loss: 0.2138\n",
      "Epoch 2/200\n",
      "135/135 [==============================] - 3s 22ms/step - loss: 0.0997 - val_loss: 0.2466\n",
      "Epoch 3/200\n",
      "135/135 [==============================] - 3s 22ms/step - loss: 0.1139 - val_loss: 0.1493\n",
      "Epoch 4/200\n",
      "135/135 [==============================] - 3s 21ms/step - loss: 0.1443 - val_loss: 0.1089\n",
      "Epoch 5/200\n",
      "135/135 [==============================] - 3s 22ms/step - loss: 0.1176 - val_loss: 0.1991\n",
      "Epoch 6/200\n",
      "135/135 [==============================] - 3s 21ms/step - loss: 0.1210 - val_loss: 0.1294\n",
      "Epoch 7/200\n",
      "135/135 [==============================] - 3s 22ms/step - loss: 0.1177 - val_loss: 0.2120\n",
      "Epoch 8/200\n",
      "135/135 [==============================] - 3s 21ms/step - loss: 0.1206 - val_loss: 0.1308\n",
      "Epoch 9/200\n",
      "135/135 [==============================] - 3s 22ms/step - loss: 0.1218 - val_loss: 0.1872\n",
      "Epoch 10/200\n",
      "135/135 [==============================] - 3s 22ms/step - loss: 0.1165 - val_loss: 0.1440\n",
      "Epoch 11/200\n",
      "135/135 [==============================] - 3s 22ms/step - loss: 0.1148 - val_loss: 0.1276\n",
      "Epoch 12/200\n",
      "135/135 [==============================] - 3s 21ms/step - loss: 0.1128 - val_loss: 0.3318\n",
      "Epoch 13/200\n",
      "135/135 [==============================] - 3s 22ms/step - loss: 0.1091 - val_loss: 0.2858\n",
      "Epoch 14/200\n",
      "135/135 [==============================] - 3s 21ms/step - loss: 0.1092 - val_loss: 0.1808\n",
      "Epoch 15/200\n",
      "135/135 [==============================] - 3s 21ms/step - loss: 0.1087 - val_loss: 0.2075\n",
      "Epoch 16/200\n",
      "135/135 [==============================] - 3s 21ms/step - loss: 0.1062 - val_loss: 0.2095\n",
      "Epoch 17/200\n",
      "135/135 [==============================] - 3s 22ms/step - loss: 0.1044 - val_loss: 0.2384\n",
      "Epoch 18/200\n",
      "135/135 [==============================] - 3s 23ms/step - loss: 0.1162 - val_loss: 0.3030\n",
      "Epoch 19/200\n",
      "135/135 [==============================] - 3s 22ms/step - loss: 0.1094 - val_loss: 0.1746\n",
      "Epoch 20/200\n",
      "135/135 [==============================] - 3s 22ms/step - loss: 0.1091 - val_loss: 0.2516\n",
      "Epoch 21/200\n",
      "135/135 [==============================] - 3s 21ms/step - loss: 0.1067 - val_loss: 0.1404\n",
      "Epoch 22/200\n",
      "135/135 [==============================] - 3s 22ms/step - loss: 0.1113 - val_loss: 0.1461\n",
      "Epoch 23/200\n",
      "135/135 [==============================] - 3s 22ms/step - loss: 0.1023 - val_loss: 0.1527\n",
      "Epoch 24/200\n",
      "135/135 [==============================] - 3s 22ms/step - loss: 0.1019 - val_loss: 0.2432\n"
     ]
    },
    {
     "data": {
      "image/png": "[encoded data removed]",
      "text/plain": [
       "<Figure size 432x288 with 1 Axes>"
      ]
     },
     "metadata": {
      "needs_background": "light"
     },
     "output_type": "display_data"
    }
   ],
   "source": [
    "modelo = modelo_lstm(trainX, trainY, 64, capas=1,epocas=200, batch_size=8,validation_split=0.1)\n",
    "# 64 neuronas, 1 capa, 36 epocas, batch_size=8, val_split= 0.1"
   ]
  },
  {
   "cell_type": "code",
   "execution_count": 47,
   "metadata": {},
   "outputs": [
    {
     "data": {
      "image/png": "[encoded data removed]",
      "text/plain": [
       "<Figure size 432x288 with 1 Axes>"
      ]
     },
     "metadata": {
      "needs_background": "light"
     },
     "output_type": "display_data"
    }
   ],
   "source": [
    "neuronas = 64\n",
    "registro = pd.read_csv('training.log', sep=\",\")\n",
    "plt.plot(registro[\"epoch\"].values, registro[\"val_loss\"].values)\n",
    "plt.title(\"Error LSTM con %i neuronas,\" % (neuronas))\n",
    "plt.ylabel(\"Error\")\n",
    "plt.xlabel(\"Epocas\")\n",
    "plt.show()"
   ]
  },
  {
   "cell_type": "code",
   "execution_count": 48,
   "metadata": {},
   "outputs": [
    {
     "data": {
      "text/plain": [
       "0.1088806837797164"
      ]
     },
     "execution_count": 48,
     "metadata": {},
     "output_type": "execute_result"
    }
   ],
   "source": [
    "registro.val_loss.min()"
   ]
  },
  {
   "cell_type": "markdown",
   "metadata": {},
   "source": [
    "Predict"
   ]
  },
  {
   "cell_type": "code",
   "execution_count": 49,
   "metadata": {},
   "outputs": [
    {
     "name": "stderr",
     "output_type": "stream",
     "text": [
      "2022-01-24 21:10:57.220534: I tensorflow/core/grappler/optimizers/custom_graph_optimizer_registry.cc:112] Plugin optimizer for device_type GPU is enabled.\n",
      "2022-01-24 21:10:57.293951: I tensorflow/core/grappler/optimizers/custom_graph_optimizer_registry.cc:112] Plugin optimizer for device_type GPU is enabled.\n",
      "2022-01-24 21:10:57.837609: I tensorflow/core/grappler/optimizers/custom_graph_optimizer_registry.cc:112] Plugin optimizer for device_type GPU is enabled.\n"
     ]
    }
   ],
   "source": [
    "\n",
    "close_data = df['Adj Close'].values\n",
    "close_data = close_data.reshape((-1,1))\n",
    "close_data = close_data.reshape((-1))\n",
    "\n",
    "def predict(num_prediction, model):\n",
    "    prediction_list = close_data[-n_past:]\n",
    "    \n",
    "    for _ in range(num_prediction):\n",
    "        x = prediction_list[-n_past:]\n",
    "        x = x.reshape((1, n_past, 1))\n",
    "        out = model.predict(x)[0][0]\n",
    "        prediction_list = np.append(prediction_list, out)\n",
    "    prediction_list = prediction_list[n_past-1:]\n",
    "        \n",
    "    return prediction_list\n",
    "    \n",
    "def predict_dates(num_prediction):\n",
    "    last_date = df['Date'].values[-1]\n",
    "    prediction_dates = pd.date_range(last_date, periods=num_prediction+1).tolist()\n",
    "    return prediction_dates\n",
    "\n",
    "num_prediction = 30\n",
    "forecast = predict(num_prediction, modelo)\n",
    "forecast_dates = predict_dates(num_prediction)"
   ]
  },
  {
   "cell_type": "code",
   "execution_count": 52,
   "metadata": {},
   "outputs": [],
   "source": [
    "predict_df = pd.DataFrame({'Date':forecast_dates, 'predict_value': forecast})"
   ]
  },
  {
   "cell_type": "code",
   "execution_count": 59,
   "metadata": {},
   "outputs": [
    {
     "data": {
      "text/plain": [
       "array([[4079.29095958],\n",
       "       [4079.29018731],\n",
       "       [4079.28833388],\n",
       "       [4079.28516759],\n",
       "       [4079.28308247],\n",
       "       [4079.28122903],\n",
       "       [4079.28076567],\n",
       "       [4079.28261911],\n",
       "       [4079.28663489],\n",
       "       [4079.28640321],\n",
       "       [4079.28277356],\n",
       "       [4079.28277356],\n",
       "       [4079.28092012],\n",
       "       [4079.28223298],\n",
       "       [4079.28045676],\n",
       "       [4079.2811518 ],\n",
       "       [4079.28285079],\n",
       "       [4079.2820013 ],\n",
       "       [4079.2808429 ],\n",
       "       [4079.2921952 ],\n",
       "       [4079.28570817],\n",
       "       [4079.29512982],\n",
       "       [4079.30092181],\n",
       "       [4079.29412587],\n",
       "       [4079.29821888],\n",
       "       [4079.29250411],\n",
       "       [4079.2823102 ],\n",
       "       [4079.28092012],\n",
       "       [4079.28447255],\n",
       "       [4079.27976172]])"
      ]
     },
     "execution_count": 59,
     "metadata": {},
     "output_type": "execute_result"
    }
   ],
   "source": [
    "scaler.inverse_transform(forecast[1:].reshape(-1,1))\n"
   ]
  },
  {
   "cell_type": "markdown",
   "metadata": {},
   "source": [
    "predict_df"
   ]
  }
 ],
 "metadata": {
  "interpreter": {
   "hash": "aa13ae4143f0fd402ef86b78e11a9e0ff8b97ad580da119d0b2db64160afd5be"
  },
  "kernelspec": {
   "display_name": "Python 3.9.9 64-bit ('machine-learning': conda)",
   "language": "python",
   "name": "python3"
  },
  "language_info": {
   "codemirror_mode": {
    "name": "ipython",
    "version": 3
   },
   "file_extension": ".py",
   "mimetype": "text/x-python",
   "name": "python",
   "nbconvert_exporter": "python",
   "pygments_lexer": "ipython3",
   "version": "3.9.9"
  },
  "orig_nbformat": 4
 },
 "nbformat": 4,
 "nbformat_minor": 2
}
