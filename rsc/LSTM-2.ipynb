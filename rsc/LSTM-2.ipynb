{
 "cells": [
  {
   "cell_type": "markdown",
   "metadata": {},
   "source": [
    "# LSTM"
   ]
  },
  {
   "cell_type": "code",
   "execution_count": 1,
   "metadata": {},
   "outputs": [],
   "source": [
    "import numpy as np\n",
    "import tensorflow as tf\n",
    "import pandas as pd\n",
    "from matplotlib import pyplot as plt\n",
    "from sklearn.preprocessing import StandardScaler, Normalizer\n",
    "import seaborn as sns"
   ]
  },
  {
   "cell_type": "code",
   "execution_count": 2,
   "metadata": {},
   "outputs": [
    {
     "data": {
      "text/html": [
       "<div>\n",
       "<style scoped>\n",
       "    .dataframe tbody tr th:only-of-type {\n",
       "        vertical-align: middle;\n",
       "    }\n",
       "\n",
       "    .dataframe tbody tr th {\n",
       "        vertical-align: top;\n",
       "    }\n",
       "\n",
       "    .dataframe thead th {\n",
       "        text-align: right;\n",
       "    }\n",
       "</style>\n",
       "<table border=\"1\" class=\"dataframe\">\n",
       "  <thead>\n",
       "    <tr style=\"text-align: right;\">\n",
       "      <th></th>\n",
       "      <th>Date</th>\n",
       "      <th>Open</th>\n",
       "      <th>High</th>\n",
       "      <th>Low</th>\n",
       "      <th>Close</th>\n",
       "      <th>Adj Close</th>\n",
       "      <th>Volume</th>\n",
       "      <th>d_volatility</th>\n",
       "      <th>VIX</th>\n",
       "    </tr>\n",
       "  </thead>\n",
       "  <tbody>\n",
       "    <tr>\n",
       "      <th>0</th>\n",
       "      <td>2017-01-03</td>\n",
       "      <td>2251.570068</td>\n",
       "      <td>2263.879883</td>\n",
       "      <td>2245.129883</td>\n",
       "      <td>2257.830078</td>\n",
       "      <td>2257.830078</td>\n",
       "      <td>3770530000</td>\n",
       "      <td>0.008328</td>\n",
       "      <td>12.85</td>\n",
       "    </tr>\n",
       "    <tr>\n",
       "      <th>1</th>\n",
       "      <td>2017-01-04</td>\n",
       "      <td>2261.600098</td>\n",
       "      <td>2272.820068</td>\n",
       "      <td>2261.600098</td>\n",
       "      <td>2270.750000</td>\n",
       "      <td>2270.750000</td>\n",
       "      <td>3764890000</td>\n",
       "      <td>0.004961</td>\n",
       "      <td>11.85</td>\n",
       "    </tr>\n",
       "    <tr>\n",
       "      <th>2</th>\n",
       "      <td>2017-01-05</td>\n",
       "      <td>2268.179932</td>\n",
       "      <td>2271.500000</td>\n",
       "      <td>2260.449951</td>\n",
       "      <td>2269.000000</td>\n",
       "      <td>2269.000000</td>\n",
       "      <td>3761820000</td>\n",
       "      <td>0.004872</td>\n",
       "      <td>11.67</td>\n",
       "    </tr>\n",
       "    <tr>\n",
       "      <th>3</th>\n",
       "      <td>2017-01-06</td>\n",
       "      <td>2271.139893</td>\n",
       "      <td>2282.100098</td>\n",
       "      <td>2264.060059</td>\n",
       "      <td>2276.979980</td>\n",
       "      <td>2276.979980</td>\n",
       "      <td>3339890000</td>\n",
       "      <td>0.007943</td>\n",
       "      <td>11.32</td>\n",
       "    </tr>\n",
       "    <tr>\n",
       "      <th>4</th>\n",
       "      <td>2017-01-09</td>\n",
       "      <td>2273.590088</td>\n",
       "      <td>2275.489990</td>\n",
       "      <td>2268.899902</td>\n",
       "      <td>2268.899902</td>\n",
       "      <td>2268.899902</td>\n",
       "      <td>3217610000</td>\n",
       "      <td>0.002899</td>\n",
       "      <td>11.56</td>\n",
       "    </tr>\n",
       "  </tbody>\n",
       "</table>\n",
       "</div>"
      ],
      "text/plain": [
       "         Date         Open         High          Low        Close  \\\n",
       "0  2017-01-03  2251.570068  2263.879883  2245.129883  2257.830078   \n",
       "1  2017-01-04  2261.600098  2272.820068  2261.600098  2270.750000   \n",
       "2  2017-01-05  2268.179932  2271.500000  2260.449951  2269.000000   \n",
       "3  2017-01-06  2271.139893  2282.100098  2264.060059  2276.979980   \n",
       "4  2017-01-09  2273.590088  2275.489990  2268.899902  2268.899902   \n",
       "\n",
       "     Adj Close      Volume  d_volatility    VIX  \n",
       "0  2257.830078  3770530000      0.008328  12.85  \n",
       "1  2270.750000  3764890000      0.004961  11.85  \n",
       "2  2269.000000  3761820000      0.004872  11.67  \n",
       "3  2276.979980  3339890000      0.007943  11.32  \n",
       "4  2268.899902  3217610000      0.002899  11.56  "
      ]
     },
     "execution_count": 2,
     "metadata": {},
     "output_type": "execute_result"
    }
   ],
   "source": [
    "df = pd.read_csv(\"../data/training_data.csv\")\n",
    "df.head()"
   ]
  },
  {
   "cell_type": "code",
   "execution_count": 3,
   "metadata": {},
   "outputs": [
    {
     "name": "stdout",
     "output_type": "stream",
     "text": [
      "1232   2021-11-23\n",
      "1233   2021-11-24\n",
      "1234   2021-11-26\n",
      "1235   2021-11-29\n",
      "1236   2021-11-30\n",
      "1237   2021-12-01\n",
      "1238   2021-12-02\n",
      "1239   2021-12-03\n",
      "1240   2021-12-06\n",
      "1241   2021-12-07\n",
      "1242   2021-12-08\n",
      "1243   2021-12-09\n",
      "1244   2021-12-10\n",
      "1245   2021-12-13\n",
      "1246   2021-12-14\n",
      "Name: Date, dtype: datetime64[ns]\n"
     ]
    }
   ],
   "source": [
    "#Separate dates for future plotting\n",
    "train_dates = pd.to_datetime(df['Date'])\n",
    "print(train_dates.tail(15)) #Check last few dates. "
   ]
  },
  {
   "cell_type": "code",
   "execution_count": 4,
   "metadata": {},
   "outputs": [
    {
     "name": "stdout",
     "output_type": "stream",
     "text": [
      "['Adj Close', 'Volume', 'd_volatility', 'VIX']\n"
     ]
    }
   ],
   "source": [
    "#Variables for training\n",
    "cols = list(df)[5:9]\n",
    "#Date and volume columns are not used in training. \n",
    "print(cols) \n",
    "df_for_training = df[cols].astype(float)"
   ]
  },
  {
   "cell_type": "markdown",
   "metadata": {},
   "source": [
    "Normalizamos los datos"
   ]
  },
  {
   "cell_type": "code",
   "execution_count": 5,
   "metadata": {},
   "outputs": [],
   "source": [
    "scaler = StandardScaler()\n",
    "scaler = scaler.fit(df_for_training)\n",
    "df_for_training_scaled = scaler.transform(df_for_training)"
   ]
  },
  {
   "cell_type": "markdown",
   "metadata": {},
   "source": [
    "### As required for LSTM networks, we require to reshape an input data into n_samples x timesteps x n_features. \n",
    "In this example, the n_features is 5. We will make timesteps = 14 (past days data used for training). "
   ]
  },
  {
   "cell_type": "code",
   "execution_count": 6,
   "metadata": {},
   "outputs": [
    {
     "name": "stdout",
     "output_type": "stream",
     "text": [
      "trainX shape == (1200, 32, 4).\n",
      "trainY shape == (1200, 1).\n"
     ]
    }
   ],
   "source": [
    "#Empty lists to be populated using formatted training data\n",
    "trainX = []\n",
    "trainY = []\n",
    "\n",
    "n_future = 16  # Number of days we want to look into the future based on the past days.\n",
    "n_past = 32  # Number of past days we want to use to predict the future.\n",
    "\n",
    "#Reformat input data into a shape: (n_samples x timesteps x n_features)\n",
    "#In my example, my df_for_training_scaled has a shape (12823, 5)\n",
    "#12823 refers to the number of data points and 5 refers to the columns (multi-variables).\n",
    "for i in range(n_past, len(df_for_training_scaled) - n_future +1):\n",
    "    trainX.append(df_for_training_scaled[i - n_past:i, 0:df_for_training.shape[1]])\n",
    "    trainY.append(df_for_training_scaled[i + n_future - 1:i + n_future, 0])\n",
    "\n",
    "trainX, trainY = np.array(trainX), np.array(trainY)\n",
    "\n",
    "print('trainX shape == {}.'.format(trainX.shape))\n",
    "print('trainY shape == {}.'.format(trainY.shape))"
   ]
  },
  {
   "cell_type": "markdown",
   "metadata": {},
   "source": [
    "Modelo"
   ]
  },
  {
   "cell_type": "code",
   "execution_count": 36,
   "metadata": {},
   "outputs": [],
   "source": [
    "def modelo_lstm(trainX,trainY,neuronas, capas, epocas, batch_size,validation_split):\n",
    "\n",
    "    csv_logger = tf.keras.callbacks.CSVLogger('training.log', separator=',', append=False)\n",
    "\n",
    "    model = tf.keras.models.Sequential()\n",
    "    #Entrada\n",
    "    model.add(tf.keras.layers.LSTM(neuronas ,activation='tanh', input_shape=(trainX.shape[1], trainX.shape[2]), return_sequences=True))\n",
    "    model.add(tf.keras.layers.Dropout(0.2)) # regularizacion en las conexiones de entrada\n",
    "    #second LSTM\n",
    "    for i in range(capas):\n",
    "        model.add(tf.keras.layers.LSTM(units=int(neuronas/2), activation='tanh', return_sequences = True))\n",
    "        model.add(tf.keras.layers.Dropout(0.2))\n",
    "    # Salida\n",
    "    model.add(tf.keras.layers.Dense(trainY.shape[1]))\n",
    "    model.compile(optimizer='adam', loss='mse')\n",
    "    model.summary()\n",
    "\n",
    "    #definir \"early stopping\" la loss de validacion no mejora en X épocas\n",
    "    early_stopping = tf.keras.callbacks.EarlyStopping(monitor='val_loss',\n",
    "                                                      patience=20,  #numero de epocas sin mejora\n",
    "                                                      restore_best_weights = True)\n",
    "\n",
    "    history = model.fit(trainX, trainY, epochs=epocas, batch_size=batch_size, validation_split=validation_split, verbose=1, callbacks=[early_stopping, csv_logger])\n",
    "\n",
    "    plt.plot(history.history['loss'], label='Training loss')\n",
    "    plt.plot(history.history['val_loss'], label='Validation loss')\n",
    "    plt.ylabel(\"Error\")\n",
    "    plt.xlabel(\"Epocas\")\n",
    "    plt.legend()\n",
    "    return model\n",
    "    "
   ]
  },
  {
   "cell_type": "code",
   "execution_count": 37,
   "metadata": {},
   "outputs": [
    {
     "name": "stdout",
     "output_type": "stream",
     "text": [
      "Model: \"sequential_13\"\n",
      "_________________________________________________________________\n",
      " Layer (type)                Output Shape              Param #   \n",
      "=================================================================\n",
      " lstm_27 (LSTM)              (None, 32, 64)            17664     \n",
      "                                                                 \n",
      " dropout_17 (Dropout)        (None, 32, 64)            0         \n",
      "                                                                 \n",
      " lstm_28 (LSTM)              (None, 32, 32)            12416     \n",
      "                                                                 \n",
      " dropout_18 (Dropout)        (None, 32, 32)            0         \n",
      "                                                                 \n",
      " dense_11 (Dense)            (None, 32, 1)             33        \n",
      "                                                                 \n",
      "=================================================================\n",
      "Total params: 30,113\n",
      "Trainable params: 30,113\n",
      "Non-trainable params: 0\n",
      "_________________________________________________________________\n",
      "Epoch 1/36\n"
     ]
    },
    {
     "name": "stderr",
     "output_type": "stream",
     "text": [
      "2022-01-23 22:12:10.712493: I tensorflow/core/grappler/optimizers/custom_graph_optimizer_registry.cc:112] Plugin optimizer for device_type GPU is enabled.\n",
      "2022-01-23 22:12:10.937778: I tensorflow/core/grappler/optimizers/custom_graph_optimizer_registry.cc:112] Plugin optimizer for device_type GPU is enabled.\n",
      "2022-01-23 22:12:11.043068: I tensorflow/core/grappler/optimizers/custom_graph_optimizer_registry.cc:112] Plugin optimizer for device_type GPU is enabled.\n",
      "2022-01-23 22:12:11.161172: I tensorflow/core/grappler/optimizers/custom_graph_optimizer_registry.cc:112] Plugin optimizer for device_type GPU is enabled.\n",
      "2022-01-23 22:12:11.369566: I tensorflow/core/grappler/optimizers/custom_graph_optimizer_registry.cc:112] Plugin optimizer for device_type GPU is enabled.\n"
     ]
    },
    {
     "name": "stdout",
     "output_type": "stream",
     "text": [
      "134/135 [============================>.] - ETA: 0s - loss: 0.1380"
     ]
    },
    {
     "name": "stderr",
     "output_type": "stream",
     "text": [
      "2022-01-23 22:12:14.822346: I tensorflow/core/grappler/optimizers/custom_graph_optimizer_registry.cc:112] Plugin optimizer for device_type GPU is enabled.\n",
      "2022-01-23 22:12:14.896871: I tensorflow/core/grappler/optimizers/custom_graph_optimizer_registry.cc:112] Plugin optimizer for device_type GPU is enabled.\n",
      "2022-01-23 22:12:15.013802: I tensorflow/core/grappler/optimizers/custom_graph_optimizer_registry.cc:112] Plugin optimizer for device_type GPU is enabled.\n"
     ]
    },
    {
     "name": "stdout",
     "output_type": "stream",
     "text": [
      "135/135 [==============================] - 7s 27ms/step - loss: 0.1372 - val_loss: 0.3657\n",
      "Epoch 2/36\n",
      "135/135 [==============================] - 3s 23ms/step - loss: 0.0825 - val_loss: 0.2999\n",
      "Epoch 3/36\n",
      "135/135 [==============================] - 3s 22ms/step - loss: 0.0750 - val_loss: 0.2279\n",
      "Epoch 4/36\n",
      "135/135 [==============================] - 3s 23ms/step - loss: 0.0766 - val_loss: 0.1654\n",
      "Epoch 5/36\n",
      "135/135 [==============================] - 3s 22ms/step - loss: 0.0655 - val_loss: 0.2245\n",
      "Epoch 6/36\n",
      "135/135 [==============================] - 3s 22ms/step - loss: 0.0827 - val_loss: 0.2586\n",
      "Epoch 7/36\n",
      "135/135 [==============================] - 3s 22ms/step - loss: 0.1081 - val_loss: 2.2908\n",
      "Epoch 8/36\n",
      "135/135 [==============================] - 3s 23ms/step - loss: 0.1060 - val_loss: 0.4884\n",
      "Epoch 9/36\n",
      "135/135 [==============================] - 3s 22ms/step - loss: 0.0935 - val_loss: 0.3319\n",
      "Epoch 10/36\n",
      "135/135 [==============================] - 3s 22ms/step - loss: 0.0851 - val_loss: 0.4450\n",
      "Epoch 11/36\n",
      "135/135 [==============================] - 3s 22ms/step - loss: 0.0845 - val_loss: 0.3063\n",
      "Epoch 12/36\n",
      "135/135 [==============================] - 3s 22ms/step - loss: 0.0808 - val_loss: 0.2921\n",
      "Epoch 13/36\n",
      "135/135 [==============================] - 3s 23ms/step - loss: 0.0827 - val_loss: 0.3180\n",
      "Epoch 14/36\n",
      "135/135 [==============================] - 3s 22ms/step - loss: 0.0787 - val_loss: 0.3621\n",
      "Epoch 15/36\n",
      "135/135 [==============================] - 3s 23ms/step - loss: 0.0776 - val_loss: 0.4482\n",
      "Epoch 16/36\n",
      "135/135 [==============================] - 3s 23ms/step - loss: 0.0751 - val_loss: 0.3382\n",
      "Epoch 17/36\n",
      "135/135 [==============================] - 3s 23ms/step - loss: 0.0741 - val_loss: 0.4091\n",
      "Epoch 18/36\n",
      "135/135 [==============================] - 3s 23ms/step - loss: 0.0787 - val_loss: 0.4683\n",
      "Epoch 19/36\n",
      "135/135 [==============================] - 3s 23ms/step - loss: 0.0809 - val_loss: 0.3360\n",
      "Epoch 20/36\n",
      "135/135 [==============================] - 3s 23ms/step - loss: 0.0745 - val_loss: 0.3064\n",
      "Epoch 21/36\n",
      "135/135 [==============================] - 3s 23ms/step - loss: 0.0732 - val_loss: 0.2816\n",
      "Epoch 22/36\n",
      "135/135 [==============================] - 3s 23ms/step - loss: 0.0693 - val_loss: 0.2771\n",
      "Epoch 23/36\n",
      "135/135 [==============================] - 3s 23ms/step - loss: 0.0669 - val_loss: 0.2073\n",
      "Epoch 24/36\n",
      "135/135 [==============================] - 3s 23ms/step - loss: 0.0681 - val_loss: 0.1802\n"
     ]
    },
    {
     "data": {
      "image/png": "[encoded data removed]",
      "text/plain": [
       "<Figure size 432x288 with 1 Axes>"
      ]
     },
     "metadata": {
      "needs_background": "light"
     },
     "output_type": "display_data"
    }
   ],
   "source": [
    "modelo = modelo_lstm(trainX, trainY, 64, capas=1,epocas=36, batch_size=8,validation_split=0.1)\n",
    "# 64 neuronas, 1 capa, 36 epocas, batch_size=8, val_split= 0.1"
   ]
  },
  {
   "cell_type": "code",
   "execution_count": 33,
   "metadata": {},
   "outputs": [
    {
     "data": {
      "image/png": "[encoded data removed]",
      "text/plain": [
       "<Figure size 432x288 with 1 Axes>"
      ]
     },
     "metadata": {
      "needs_background": "light"
     },
     "output_type": "display_data"
    }
   ],
   "source": [
    "neuronas = 64\n",
    "registro = pd.read_csv('training.log', sep=\",\")\n",
    "plt.plot(registro[\"epoch\"].values, registro[\"val_loss\"].values)\n",
    "plt.title(\"Error LSTM con %i neuronas,\" % (neuronas))\n",
    "plt.ylabel(\"Error\")\n",
    "plt.xlabel(\"Epocas\")\n",
    "plt.show()"
   ]
  },
  {
   "cell_type": "markdown",
   "metadata": {},
   "source": [
    "Predict"
   ]
  },
  {
   "cell_type": "code",
   "execution_count": 34,
   "metadata": {},
   "outputs": [
    {
     "name": "stdout",
     "output_type": "stream",
     "text": [
      "[Timestamp('2021-11-22 00:00:00', freq='D'), Timestamp('2021-11-23 00:00:00', freq='D'), Timestamp('2021-11-24 00:00:00', freq='D'), Timestamp('2021-11-25 00:00:00', freq='D'), Timestamp('2021-11-26 00:00:00', freq='D'), Timestamp('2021-11-27 00:00:00', freq='D'), Timestamp('2021-11-28 00:00:00', freq='D'), Timestamp('2021-11-29 00:00:00', freq='D'), Timestamp('2021-11-30 00:00:00', freq='D'), Timestamp('2021-12-01 00:00:00', freq='D'), Timestamp('2021-12-02 00:00:00', freq='D'), Timestamp('2021-12-03 00:00:00', freq='D'), Timestamp('2021-12-04 00:00:00', freq='D'), Timestamp('2021-12-05 00:00:00', freq='D'), Timestamp('2021-12-06 00:00:00', freq='D')]\n"
     ]
    }
   ],
   "source": [
    "n_past = 16\n",
    "n_days_for_prediction=15  #let us predict past 15 days\n",
    "\n",
    "predict_period_dates = pd.date_range(list(train_dates)[-n_past], periods=n_days_for_prediction).tolist()\n",
    "print(predict_period_dates)"
   ]
  },
  {
   "cell_type": "code",
   "execution_count": 35,
   "metadata": {},
   "outputs": [
    {
     "data": {
      "text/plain": [
       "(Timestamp('2021-11-22 00:00:00'),)"
      ]
     },
     "execution_count": 35,
     "metadata": {},
     "output_type": "execute_result"
    }
   ],
   "source": [
    "#Make prediction\n",
    "prediction = modelo.predict(trainX[-n_days_for_prediction:]) #shape = (n, 1) where n is the n_days_for_prediction\n",
    "\n",
    "#Perform inverse transformation to rescale back to original range\n",
    "#Since we used 5 variables for transform, the inverse expects same dimensions\n",
    "#Therefore, let us copy our values 5 times and discard them after inverse transform\n",
    "prediction_copies = np.repeat(prediction, df_for_training.shape[1], axis=-1)\n",
    "y_pred_future = scaler.inverse_transform(prediction_copies)[:,0]"
   ]
  }
 ],
 "metadata": {
  "interpreter": {
   "hash": "aa13ae4143f0fd402ef86b78e11a9e0ff8b97ad580da119d0b2db64160afd5be"
  },
  "kernelspec": {
   "display_name": "Python 3.9.9 64-bit ('machine-learning': conda)",
   "language": "python",
   "name": "python3"
  },
  "language_info": {
   "codemirror_mode": {
    "name": "ipython",
    "version": 3
   },
   "file_extension": ".py",
   "mimetype": "text/x-python",
   "name": "python",
   "nbconvert_exporter": "python",
   "pygments_lexer": "ipython3",
   "version": "3.9.9"
  },
  "orig_nbformat": 4
 },
 "nbformat": 4,
 "nbformat_minor": 2
}
